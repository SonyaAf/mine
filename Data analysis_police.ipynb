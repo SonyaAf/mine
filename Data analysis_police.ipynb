{
 "cells": [
  {
   "cell_type": "code",
   "execution_count": 117,
   "metadata": {},
   "outputs": [
    {
     "name": "stdout",
     "output_type": "stream",
     "text": [
      "  raw_row_number        date      time                        location  \\\n",
      "0              1  2012-01-01  09:14:00  S I225 NB HWY AT E ALAMEDA AVE   \n",
      "1              2  2012-01-01  09:30:00              2600 S I225 NB HWY   \n",
      "2              3  2012-01-01  09:36:00      N I225 SB HWY AT E 6TH AVE   \n",
      "3              4  2012-01-01  09:40:00        2300 BLOCK S I225 NB HWY   \n",
      "4              5  2012-01-01  09:46:00    E VIRGINIA PL AT S PEORIA ST   \n",
      "\n",
      "         lat         lng  district  subject_age subject_race subject_sex  \\\n",
      "0        NaN         NaN       NaN         27.0        white        male   \n",
      "1        NaN         NaN       NaN         23.0        black      female   \n",
      "2  39.725279 -104.821160       2.0         23.0        white        male   \n",
      "3        NaN         NaN       NaN         38.0        white      female   \n",
      "4  39.706912 -104.847213       1.0         75.0        white        male   \n",
      "\n",
      "        type                                          violation  \\\n",
      "0  vehicular             Speeding (20+ Over) - Muni Statue 1101   \n",
      "1  vehicular             Speeding (20+ Over) - Muni Statue 1101   \n",
      "2  vehicular             Speeding (20+ Over) - Muni Statue 1101   \n",
      "3  vehicular             Speeding (20+ Over) - Muni Statue 1101   \n",
      "4  vehicular  Failed to Present Evidence of Insurance Upon R...   \n",
      "\n",
      "   citation_issued   outcome raw_ethnicity                raw_race  \n",
      "0             True  citation           NaN                   WHITE  \n",
      "1             True  citation           NaN  BLACK/AFRICAN AMERICAN  \n",
      "2             True  citation           NaN                   WHITE  \n",
      "3             True  citation           NaN                   WHITE  \n",
      "4             True  citation           NaN                   WHITE  \n"
     ]
    }
   ],
   "source": [
    "import pandas as pd\n",
    "import matplotlib.pyplot as plt\n",
    "\n",
    "#upload dataframe\n",
    "ri = pd.read_csv('police.csv')\n",
    "\n",
    "#check data set\n",
    "print(ri.head(5))\n"
   ]
  },
  {
   "cell_type": "code",
   "execution_count": 118,
   "metadata": {},
   "outputs": [
    {
     "name": "stdout",
     "output_type": "stream",
     "text": [
      "(172929, 16)\n",
      "(172929, 11)\n"
     ]
    }
   ],
   "source": [
    "#Shape data\n",
    "print(ri.shape)\n",
    "\n",
    "#drop some columns\n",
    "ri.drop(['raw_row_number','lat','lng','location','raw_ethnicity'], axis='columns', inplace=True)\n",
    "\n",
    "print(ri.shape)"
   ]
  },
  {
   "cell_type": "code",
   "execution_count": 119,
   "metadata": {},
   "outputs": [
    {
     "name": "stdout",
     "output_type": "stream",
     "text": [
      "date                   0\n",
      "time                 940\n",
      "district           33608\n",
      "subject_age         5805\n",
      "subject_race           4\n",
      "subject_sex         1978\n",
      "type                4229\n",
      "violation           3526\n",
      "citation_issued        0\n",
      "outcome                0\n",
      "raw_race               4\n",
      "dtype: int64\n"
     ]
    }
   ],
   "source": [
    "#check nulls\n",
    "print(ri.isnull().sum())\n"
   ]
  },
  {
   "cell_type": "code",
   "execution_count": 120,
   "metadata": {},
   "outputs": [
    {
     "name": "stdout",
     "output_type": "stream",
     "text": [
      "date                object\n",
      "time                object\n",
      "district           float64\n",
      "subject_age        float64\n",
      "subject_race        object\n",
      "subject_sex         object\n",
      "type                object\n",
      "violation           object\n",
      "citation_issued       bool\n",
      "outcome             object\n",
      "raw_race            object\n",
      "dtype: object\n"
     ]
    }
   ],
   "source": [
    "#check data types\n",
    "print(ri.dtypes)"
   ]
  },
  {
   "cell_type": "code",
   "execution_count": 121,
   "metadata": {},
   "outputs": [],
   "source": [
    "#replace nan in age per mean age\n",
    "ri['subject_age']=ri['subject_age'].fillna(ri['subject_age'].mean())\n"
   ]
  },
  {
   "cell_type": "code",
   "execution_count": 123,
   "metadata": {},
   "outputs": [],
   "source": [
    "# Change the data type of to 'int'\n",
    "ri['subject_age'] = ri.subject_age.astype('int')"
   ]
  },
  {
   "cell_type": "code",
   "execution_count": 124,
   "metadata": {},
   "outputs": [
    {
     "name": "stdout",
     "output_type": "stream",
     "text": [
      "date                       object\n",
      "time                       object\n",
      "district                  float64\n",
      "subject_age                 int32\n",
      "subject_race               object\n",
      "subject_sex                object\n",
      "type                       object\n",
      "violation                  object\n",
      "citation_issued              bool\n",
      "outcome                    object\n",
      "raw_race                   object\n",
      "stop_datetime      datetime64[ns]\n",
      "dtype: object\n"
     ]
    }
   ],
   "source": [
    "# Concatenate 'date' and 'time' (separated by a space)\n",
    "combined = ri.date.str.cat (ri.time, sep=' ')\n",
    "\n",
    "# Convert 'combined' to datetime format\n",
    "ri['stop_datetime'] = pd.to_datetime (combined)\n",
    "\n",
    "# Examine the data types of the DataFrame\n",
    "print(ri.dtypes)"
   ]
  },
  {
   "cell_type": "code",
   "execution_count": 125,
   "metadata": {},
   "outputs": [
    {
     "name": "stdout",
     "output_type": "stream",
     "text": [
      "DatetimeIndex(['2012-01-01 09:14:00', '2012-01-01 09:30:00',\n",
      "               '2012-01-01 09:36:00', '2012-01-01 09:40:00',\n",
      "               '2012-01-01 09:46:00', '2012-01-01 10:00:00',\n",
      "               '2012-01-01 10:20:00', '2012-01-01 12:15:00',\n",
      "               '2012-01-01 12:46:00', '2012-01-01 13:15:00',\n",
      "               ...\n",
      "               '2016-12-31 00:35:00', '2016-12-31 01:20:00',\n",
      "               '2016-12-31 01:37:00', '2016-12-31 02:02:00',\n",
      "               '2016-12-31 09:06:00', '2016-12-31 11:25:00',\n",
      "               '2016-12-31 15:50:00', '2016-12-31 21:05:00',\n",
      "               '2016-12-31 21:10:00', '2016-12-31 22:55:00'],\n",
      "              dtype='datetime64[ns]', name='stop_datetime', length=172929, freq=None)\n",
      "Index(['date', 'time', 'district', 'subject_age', 'subject_race',\n",
      "       'subject_sex', 'type', 'violation', 'citation_issued', 'outcome',\n",
      "       'raw_race'],\n",
      "      dtype='object')\n"
     ]
    }
   ],
   "source": [
    "# Set 'stop_datetime' as the index\n",
    "ri.set_index('stop_datetime',inplace=True)\n",
    "\n",
    "# Examine the index\n",
    "print(ri.index)\n",
    "\n",
    "# Examine the columns\n",
    "print(ri.columns)"
   ]
  },
  {
   "cell_type": "code",
   "execution_count": 126,
   "metadata": {},
   "outputs": [
    {
     "name": "stdout",
     "output_type": "stream",
     "text": [
      "vehicular     168677\n",
      "pedestrian        23\n",
      "Name: type, dtype: int64\n",
      "vehicular     0.999864\n",
      "pedestrian    0.000136\n",
      "Name: type, dtype: float64\n"
     ]
    }
   ],
   "source": [
    "# Count the unique values in 'violation'\n",
    "print(ri.type.value_counts())\n",
    "\n",
    "# Express the counts as proportions\n",
    "print(ri.type.value_counts(normalize=True))"
   ]
  },
  {
   "cell_type": "code",
   "execution_count": 127,
   "metadata": {},
   "outputs": [
    {
     "name": "stdout",
     "output_type": "stream",
     "text": [
      "Speeding (10-19 Over)                                           69837\n",
      "Failed to Present Evidence of Insurance Upon Request            13817\n",
      "Failed to Obey Seat Belt Requirements Adult                      7641\n",
      "Speeding (20+ Over) - Muni Statue 1101                           7098\n",
      "Disregarded Stop Sign                                            6136\n",
      "                                                                ...  \n",
      "Failed to Signal or Gave Improper Signal for turn                   1\n",
      "License/ID To Be Exhibited on Demand                                1\n",
      "Speed Contest (one or more vehicles time trial, or two vehic        1\n",
      "Driving on Wrong Side of Road - Left of Center Line On 4 Or         1\n",
      "Minor Operated A Motor Vehicle With An Unauthorized Passenge        1\n",
      "Name: violation, Length: 413, dtype: int64\n",
      "Speeding (10-19 Over)                                           0.412254\n",
      "Failed to Present Evidence of Insurance Upon Request            0.081563\n",
      "Failed to Obey Seat Belt Requirements Adult                     0.045105\n",
      "Speeding (20+ Over) - Muni Statue 1101                          0.041900\n",
      "Disregarded Stop Sign                                           0.036221\n",
      "                                                                  ...   \n",
      "Failed to Signal or Gave Improper Signal for turn               0.000006\n",
      "License/ID To Be Exhibited on Demand                            0.000006\n",
      "Speed Contest (one or more vehicles time trial, or two vehic    0.000006\n",
      "Driving on Wrong Side of Road - Left of Center Line On 4 Or     0.000006\n",
      "Minor Operated A Motor Vehicle With An Unauthorized Passenge    0.000006\n",
      "Name: violation, Length: 413, dtype: float64\n"
     ]
    }
   ],
   "source": [
    "# Count the unique values in 'violation'\n",
    "print(ri.violation.value_counts())\n",
    "\n",
    "# Express the counts as proportions\n",
    "print(ri.violation.value_counts(normalize=True))"
   ]
  },
  {
   "cell_type": "code",
   "execution_count": 128,
   "metadata": {},
   "outputs": [
    {
     "name": "stdout",
     "output_type": "stream",
     "text": [
      "True    172929\n",
      "Name: citation_issued, dtype: int64\n",
      "True    1.0\n",
      "Name: citation_issued, dtype: float64\n"
     ]
    }
   ],
   "source": [
    "# Count the unique values in 'violation'\n",
    "print(ri.citation_issued.value_counts())\n",
    "\n",
    "# Express the counts as proportions\n",
    "print(ri.citation_issued.value_counts(normalize=True))\n",
    "\n",
    "#drop citation and outcome, once everyone received it :D\n",
    "ri.drop(['citation_issued','outcome'], axis='columns', inplace=True)\n"
   ]
  },
  {
   "cell_type": "code",
   "execution_count": 129,
   "metadata": {},
   "outputs": [
    {
     "name": "stdout",
     "output_type": "stream",
     "text": [
      "Speeding (10-19 Over)                                        0.460246\n",
      "Failed to Present Evidence of Insurance Upon Request         0.079294\n",
      "Disregarded Stop Sign                                        0.041508\n",
      "Failed to Obey Seat Belt Requirements Adult                  0.038460\n",
      "Speeding (20+ Over) - Muni Statue 1101                       0.037127\n",
      "                                                               ...   \n",
      "Headlamps to be lit                                          0.000015\n",
      "Speeding (5-9 Over)                                          0.000015\n",
      "Failed to Turn as Req by Traffic Dev-Muni Statute 901(2)     0.000015\n",
      "Load Proj Beyond Headlamps/Frt Wheels-Muni Statute 504(5)    0.000015\n",
      "Unlawful Deviation From Designated Truck Routes              0.000015\n",
      "Name: violation, Length: 293, dtype: float64\n",
      "Speeding (10-19 Over)                                          0.389178\n",
      "Failed to Present Evidence of Insurance Upon Request           0.084447\n",
      "Failed to Obey Seat Belt Requirements Adult                    0.050165\n",
      "Speeding (20+ Over) - Muni Statue 1101                         0.045713\n",
      "Disregarded Stop Sign                                          0.033470\n",
      "                                                                 ...   \n",
      "Improper reflectors on vehicle (cc 617)                        0.000010\n",
      "Drove Vehicle when Revoked as Habitual Offender (DWAI)         0.000010\n",
      "Failure to sign the Registration Affirmation                   0.000010\n",
      "Made U Turn Where Prohibited by Sign                           0.000010\n",
      "Spilling Load On Highway (non-covered loads, blowing gravel    0.000010\n",
      "Name: violation, Length: 372, dtype: float64\n"
     ]
    }
   ],
   "source": [
    "# DataFrame of female drivers\n",
    "female = ri[ri.subject_sex=='female']\n",
    "\n",
    "# Create a DataFrame of male drivers\n",
    "male = ri[ri.subject_sex=='male']\n",
    "\n",
    "# Compute the violations by female drivers (as proportions)\n",
    "print(female.violation.value_counts(normalize=True))\n",
    "\n",
    "# Compute the violations by male drivers (as proportions)\n",
    "print(male.violation.value_counts(normalize=True))"
   ]
  },
  {
   "cell_type": "code",
   "execution_count": 132,
   "metadata": {},
   "outputs": [
    {
     "name": "stdout",
     "output_type": "stream",
     "text": [
      "                           date      time  district  subject_age  \\\n",
      "stop_datetime                                                      \n",
      "2012-01-01 16:58:00  2012-01-01  16:58:00       1.0           28   \n",
      "2012-01-02 00:53:00  2012-01-02  00:53:00       NaN           42   \n",
      "2012-01-02 07:42:00  2012-01-02  07:42:00       NaN           39   \n",
      "2012-01-02 11:30:00  2012-01-02  11:30:00       NaN           40   \n",
      "2012-01-02 11:37:00  2012-01-02  11:37:00       NaN           30   \n",
      "...                         ...       ...       ...          ...   \n",
      "2016-12-30 08:40:00  2016-12-30  08:40:00       3.0           60   \n",
      "2016-12-30 08:52:00  2016-12-30  08:52:00       3.0           26   \n",
      "2016-12-30 09:19:00  2016-12-30  09:19:00       NaN           64   \n",
      "2016-12-30 20:33:00  2016-12-30  20:33:00       NaN           31   \n",
      "2016-12-30 20:52:00  2016-12-30  20:52:00       NaN           22   \n",
      "\n",
      "                               subject_race subject_sex       type  \\\n",
      "stop_datetime                                                        \n",
      "2012-01-01 16:58:00                   white      female  vehicular   \n",
      "2012-01-02 00:53:00                   white      female  vehicular   \n",
      "2012-01-02 07:42:00                   white      female  vehicular   \n",
      "2012-01-02 11:30:00                   black      female  vehicular   \n",
      "2012-01-02 11:37:00                   white      female  vehicular   \n",
      "...                                     ...         ...        ...   \n",
      "2016-12-30 08:40:00                   white      female  vehicular   \n",
      "2016-12-30 08:52:00                   black      female  vehicular   \n",
      "2016-12-30 09:19:00  asian/pacific islander      female  vehicular   \n",
      "2016-12-30 20:33:00                   white      female  vehicular   \n",
      "2016-12-30 20:52:00                   white      female  vehicular   \n",
      "\n",
      "                                 violation                raw_race  \n",
      "stop_datetime                                                       \n",
      "2012-01-01 16:58:00  Speeding (10-19 Over)                   WHITE  \n",
      "2012-01-02 00:53:00  Speeding (10-19 Over)                   WHITE  \n",
      "2012-01-02 07:42:00  Speeding (10-19 Over)                   WHITE  \n",
      "2012-01-02 11:30:00  Speeding (10-19 Over)  BLACK/AFRICAN AMERICAN  \n",
      "2012-01-02 11:37:00  Speeding (10-19 Over)                   WHITE  \n",
      "...                                    ...                     ...  \n",
      "2016-12-30 08:40:00  Speeding (10-19 Over)                   WHITE  \n",
      "2016-12-30 08:52:00  Speeding (10-19 Over)  BLACK/AFRICAN AMERICAN  \n",
      "2016-12-30 09:19:00  Speeding (10-19 Over)                   ASIAN  \n",
      "2016-12-30 20:33:00  Speeding (10-19 Over)                   WHITE  \n",
      "2016-12-30 20:52:00  Speeding (10-19 Over)                   WHITE  \n",
      "\n",
      "[30049 rows x 9 columns]\n"
     ]
    }
   ],
   "source": [
    "#Dataframe Female drivers who were stopped for Speeding (10-19 Over)\n",
    "fem_speeding = ri[(ri.subject_sex == 'female') & (ri.violation == 'Speeding (10-19 Over)')]\n",
    "print(fem_speeding)"
   ]
  },
  {
   "cell_type": "code",
   "execution_count": 133,
   "metadata": {},
   "outputs": [
    {
     "name": "stdout",
     "output_type": "stream",
     "text": [
      "raw_race                   violation                                                \n",
      "AMERICAN INDIAN/ALASKAN N  Careless Driving                                             31.500000\n",
      "                           Changed Lanes When Unsafe                                    39.666667\n",
      "                           Child Restraint System Required                              34.500000\n",
      "                           Disregard Police Directing Traffic                           25.000000\n",
      "                           Disregarded Stop Sign                                        49.500000\n",
      "                                                                                          ...    \n",
      "WHITE                      Weight Over 7000 Lbs                                         59.000000\n",
      "                           Wheel and or Axle Loads Exceeded Limit - Muni Statute 507    43.137830\n",
      "                           Windows obstructed - window tinting                          25.250000\n",
      "                           Windshield Obscured                                          27.486486\n",
      "                           Windshield Obstructed (Muni 227)                             44.000000\n",
      "Name: subject_age, Length: 996, dtype: float64\n"
     ]
    }
   ],
   "source": [
    "# Calculate the subject_age for each combination of race and violation\n",
    "print(ri.groupby(['raw_race','violation']).subject_age.mean())"
   ]
  },
  {
   "cell_type": "code",
   "execution_count": 134,
   "metadata": {},
   "outputs": [
    {
     "name": "stdout",
     "output_type": "stream",
     "text": [
      "subject_sex  violation                                                   \n",
      "female       Alter Deface Offic Traf Cont Sign Device                        39.000000\n",
      "             Bicycle Riders Obedience To Traffic Control Devices (stop si    67.000000\n",
      "             Bicyclist Suddenly Rode Into Path Of Vehicle                    53.000000\n",
      "             Blue and red lights - illegal use or possess                    30.500000\n",
      "             Careless Driving                                                35.016760\n",
      "                                                                               ...    \n",
      "male         Weight Over 7000 Lbs                                            42.000000\n",
      "             Wheel and or Axle Loads Exceeded Limit - Muni Statute 507       42.817938\n",
      "             Windows obstructed - window tinting                             31.500000\n",
      "             Windshield Obscured                                             28.060606\n",
      "             Windshield Obstructed (Muni 227)                                44.000000\n",
      "Name: subject_age, Length: 665, dtype: float64\n"
     ]
    }
   ],
   "source": [
    "# Calculate the subject_age for each combination of sex and violation\n",
    "print(ri.groupby(['subject_sex','violation']).subject_age.mean())"
   ]
  },
  {
   "cell_type": "code",
   "execution_count": 135,
   "metadata": {},
   "outputs": [
    {
     "name": "stdout",
     "output_type": "stream",
     "text": [
      "Speeding (10-19 Over)                                           69837\n",
      "Failed to Present Evidence of Insurance Upon Request            13817\n",
      "Failed to Obey Seat Belt Requirements Adult                      7641\n",
      "Speeding (20+ Over) - Muni Statue 1101                           7098\n",
      "Disregarded Stop Sign                                            6136\n",
      "                                                                ...  \n",
      "Failed to Signal or Gave Improper Signal for turn                   1\n",
      "License/ID To Be Exhibited on Demand                                1\n",
      "Speed Contest (one or more vehicles time trial, or two vehic        1\n",
      "Driving on Wrong Side of Road - Left of Center Line On 4 Or         1\n",
      "Minor Operated A Motor Vehicle With An Unauthorized Passenge        1\n",
      "Name: violation, Length: 413, dtype: int64\n"
     ]
    }
   ],
   "source": [
    "# Count the 'search_type' values\n",
    "print(ri.violation.value_counts())\n"
   ]
  },
  {
   "cell_type": "code",
   "execution_count": 136,
   "metadata": {},
   "outputs": [],
   "source": [
    "# Check if violation contains the string 'Careless Driving'\n",
    "ri['careless_drive'] = ri.violation.str.contains('Careless Driving', na=False)\n"
   ]
  },
  {
   "cell_type": "code",
   "execution_count": 137,
   "metadata": {},
   "outputs": [
    {
     "name": "stdout",
     "output_type": "stream",
     "text": [
      "bool\n",
      "1325\n"
     ]
    }
   ],
   "source": [
    "# Check the data type of 'frisk'\n",
    "print(ri.careless_drive.dtype)\n",
    "\n",
    "# Take the sum of 'frisk'\n",
    "print(ri.careless_drive.sum())"
   ]
  },
  {
   "cell_type": "code",
   "execution_count": 138,
   "metadata": {},
   "outputs": [
    {
     "name": "stdout",
     "output_type": "stream",
     "text": [
      "0.007662104100526806\n",
      "subject_sex\n",
      "female    0.005373\n",
      "male      0.009250\n",
      "Name: careless_drive, dtype: float64\n"
     ]
    }
   ],
   "source": [
    "# Calculate the overall ri.careless_drive rate mean\n",
    "print(ri.careless_drive.mean())\n",
    "\n",
    "# Calculate the careless_drive rate for each gender\n",
    "print(ri.groupby('subject_sex').careless_drive.mean())"
   ]
  },
  {
   "cell_type": "code",
   "execution_count": 139,
   "metadata": {},
   "outputs": [
    {
     "name": "stdout",
     "output_type": "stream",
     "text": [
      "stop_datetime\n",
      "0.0     0.013048\n",
      "1.0     0.011533\n",
      "2.0     0.014333\n",
      "3.0     0.009810\n",
      "4.0     0.005845\n",
      "5.0     0.010256\n",
      "6.0     0.004830\n",
      "7.0     0.005714\n",
      "8.0     0.002903\n",
      "9.0     0.003779\n",
      "10.0    0.003837\n",
      "11.0    0.006801\n",
      "12.0    0.007115\n",
      "13.0    0.005344\n",
      "14.0    0.006863\n",
      "15.0    0.010720\n",
      "16.0    0.005619\n",
      "17.0    0.009164\n",
      "18.0    0.010778\n",
      "19.0    0.012884\n",
      "20.0    0.019673\n",
      "21.0    0.023059\n",
      "22.0    0.017151\n",
      "23.0    0.014221\n",
      "Name: careless_drive, dtype: float64\n"
     ]
    }
   ],
   "source": [
    "# Calculate the hourly careless_drive\n",
    "hourly_careless_drive = ri.groupby(ri.index.hour).careless_drive.mean()\n",
    "\n",
    "print(hourly_careless_drive)"
   ]
  },
  {
   "cell_type": "code",
   "execution_count": 140,
   "metadata": {},
   "outputs": [
    {
     "data": {
      "image/png": "[encoded data removed]",
      "text/plain": [
       "<Figure size 432x288 with 1 Axes>"
      ]
     },
     "metadata": {
      "needs_background": "light"
     },
     "output_type": "display_data"
    }
   ],
   "source": [
    "# Import matplotlib.pyplot as plt\n",
    "import matplotlib.pyplot as plt\n",
    "\n",
    "# Create a line plot of 'hourly_arrest_rate'\n",
    "plt.plot(hourly_careless_drive)\n",
    "\n",
    "# Add the xlabel, ylabel, and title\n",
    "plt.xlabel('Hour')\n",
    "plt.ylabel('Careless_drive')\n",
    "plt.title('Careless drive by Time of Day')\n",
    "\n",
    "# Display the plot\n",
    "plt.show()"
   ]
  },
  {
   "cell_type": "code",
   "execution_count": 141,
   "metadata": {},
   "outputs": [
    {
     "name": "stdout",
     "output_type": "stream",
     "text": [
      "stop_datetime\n",
      "2012-12-31    0.006983\n",
      "2013-12-31    0.006738\n",
      "2014-12-31    0.007822\n",
      "2015-12-31    0.007930\n",
      "2016-12-31    0.009725\n",
      "Name: careless_drive, dtype: float64\n"
     ]
    },
    {
     "data": {
      "image/png": "[encoded data removed]",
      "text/plain": [
       "<Figure size 432x288 with 1 Axes>"
      ]
     },
     "metadata": {
      "needs_background": "light"
     },
     "output_type": "display_data"
    }
   ],
   "source": [
    "# Calculate the annual rate of careless_drive\n",
    "print(ri.careless_drive.resample('A').mean())\n",
    "\n",
    "# Save the annual rate of careless_drive\n",
    "annual_careless_drive = ri.careless_drive.resample('A').mean()\n",
    "\n",
    "# Create a line plot of 'annual_careless_drive'\n",
    "plt.plot(annual_careless_drive)\n",
    "\n",
    "# Display the plot\n",
    "plt.show()"
   ]
  },
  {
   "cell_type": "code",
   "execution_count": 149,
   "metadata": {},
   "outputs": [
    {
     "name": "stdout",
     "output_type": "stream",
     "text": [
      "violation    Alter Deface Offic Traf Cont Sign Device  \\\n",
      "subject_age                                             \n",
      "11                                                  0   \n",
      "12                                                  0   \n",
      "13                                                  0   \n",
      "14                                                  0   \n",
      "15                                                  0   \n",
      "...                                               ...   \n",
      "94                                                  0   \n",
      "95                                                  0   \n",
      "96                                                  0   \n",
      "99                                                  0   \n",
      "100                                                 0   \n",
      "\n",
      "violation    Alteration of Suspension System.  \\\n",
      "subject_age                                     \n",
      "11                                          0   \n",
      "12                                          0   \n",
      "13                                          0   \n",
      "14                                          0   \n",
      "15                                          0   \n",
      "...                                       ...   \n",
      "94                                          0   \n",
      "95                                          0   \n",
      "96                                          0   \n",
      "99                                          0   \n",
      "100                                         0   \n",
      "\n",
      "violation    Bicycle Riders Obedience To Traffic Control Devices (stop si  \\\n",
      "subject_age                                                                 \n",
      "11                                                           0              \n",
      "12                                                           0              \n",
      "13                                                           0              \n",
      "14                                                           0              \n",
      "15                                                           0              \n",
      "...                                                        ...              \n",
      "94                                                           0              \n",
      "95                                                           0              \n",
      "96                                                           0              \n",
      "99                                                           0              \n",
      "100                                                          0              \n",
      "\n",
      "violation    Bicyclist Suddenly Rode Into Path Of Vehicle  \\\n",
      "subject_age                                                 \n",
      "11                                                      0   \n",
      "12                                                      0   \n",
      "13                                                      0   \n",
      "14                                                      0   \n",
      "15                                                      0   \n",
      "...                                                   ...   \n",
      "94                                                      0   \n",
      "95                                                      0   \n",
      "96                                                      0   \n",
      "99                                                      0   \n",
      "100                                                     0   \n",
      "\n",
      "violation    Blue and red lights - illegal use or possess  Careless Driving  \\\n",
      "subject_age                                                                   \n",
      "11                                                      0                 0   \n",
      "12                                                      0                 0   \n",
      "13                                                      0                 0   \n",
      "14                                                      0                 0   \n",
      "15                                                      0                 2   \n",
      "...                                                   ...               ...   \n",
      "94                                                      0                 0   \n",
      "95                                                      0                 0   \n",
      "96                                                      0                 0   \n",
      "99                                                      0                 0   \n",
      "100                                                     0                 0   \n",
      "\n",
      "violation    Careless Driving - Failed To Yield R.O.W. To A Stationary Em  \\\n",
      "subject_age                                                                 \n",
      "11                                                           0              \n",
      "12                                                           0              \n",
      "13                                                           0              \n",
      "14                                                           0              \n",
      "15                                                           0              \n",
      "...                                                        ...              \n",
      "94                                                           0              \n",
      "95                                                           0              \n",
      "96                                                           0              \n",
      "99                                                           0              \n",
      "100                                                          0              \n",
      "\n",
      "violation    Changed Lanes When Unsafe  Changed Lanes When Unsafe (Weaving)  \\\n",
      "subject_age                                                                   \n",
      "11                                   0                                    0   \n",
      "12                                   0                                    0   \n",
      "13                                   0                                    0   \n",
      "14                                   0                                    0   \n",
      "15                                   1                                    0   \n",
      "...                                ...                                  ...   \n",
      "94                                   0                                    0   \n",
      "95                                   0                                    0   \n",
      "96                                   0                                    0   \n",
      "99                                   0                                    0   \n",
      "100                                  0                                    0   \n",
      "\n",
      "violation    Child Booster Seat Required (4-7 years of age) primary viola  \\\n",
      "subject_age                                                                 \n",
      "11                                                           0              \n",
      "12                                                           0              \n",
      "13                                                           0              \n",
      "14                                                           0              \n",
      "15                                                           0              \n",
      "...                                                        ...              \n",
      "94                                                           0              \n",
      "95                                                           0              \n",
      "96                                                           0              \n",
      "99                                                           0              \n",
      "100                                                          0              \n",
      "\n",
      "violation    ...  Violation of Motorcycle Safety Law-Goggles  \\\n",
      "subject_age  ...                                               \n",
      "11           ...                                           0   \n",
      "12           ...                                           0   \n",
      "13           ...                                           0   \n",
      "14           ...                                           0   \n",
      "15           ...                                           0   \n",
      "...          ...                                         ...   \n",
      "94           ...                                           0   \n",
      "95           ...                                           0   \n",
      "96           ...                                           0   \n",
      "99           ...                                           0   \n",
      "100          ...                                           0   \n",
      "\n",
      "violation    Violation of Red Signal Light  \\\n",
      "subject_age                                  \n",
      "11                                       0   \n",
      "12                                       0   \n",
      "13                                       0   \n",
      "14                                       0   \n",
      "15                                       0   \n",
      "...                                    ...   \n",
      "94                                       0   \n",
      "95                                       0   \n",
      "96                                       0   \n",
      "99                                       0   \n",
      "100                                      0   \n",
      "\n",
      "violation    Violation of Red Signal Light  (muni 604(1)(c)(I)  \\\n",
      "subject_age                                                      \n",
      "11                                                           0   \n",
      "12                                                           0   \n",
      "13                                                           0   \n",
      "14                                                           0   \n",
      "15                                                           0   \n",
      "...                                                        ...   \n",
      "94                                                           0   \n",
      "95                                                           0   \n",
      "96                                                           0   \n",
      "99                                                           0   \n",
      "100                                                          0   \n",
      "\n",
      "violation    Visible Emmissions from Gas Engine  \\\n",
      "subject_age                                       \n",
      "11                                            0   \n",
      "12                                            0   \n",
      "13                                            0   \n",
      "14                                            0   \n",
      "15                                            0   \n",
      "...                                         ...   \n",
      "94                                            0   \n",
      "95                                            0   \n",
      "96                                            0   \n",
      "99                                            0   \n",
      "100                                           0   \n",
      "\n",
      "violation    Vision Obstructed - Muni Statute 227(1)  Weight Over 7000 Lbs  \\\n",
      "subject_age                                                                  \n",
      "11                                                 0                     0   \n",
      "12                                                 0                     0   \n",
      "13                                                 0                     0   \n",
      "14                                                 0                     0   \n",
      "15                                                 0                     0   \n",
      "...                                              ...                   ...   \n",
      "94                                                 0                     0   \n",
      "95                                                 0                     0   \n",
      "96                                                 0                     0   \n",
      "99                                                 0                     0   \n",
      "100                                                0                     0   \n",
      "\n",
      "violation    Wheel and or Axle Loads Exceeded Limit - Muni Statute 507  \\\n",
      "subject_age                                                              \n",
      "11                                                           0           \n",
      "12                                                           0           \n",
      "13                                                           0           \n",
      "14                                                           0           \n",
      "15                                                           0           \n",
      "...                                                        ...           \n",
      "94                                                           0           \n",
      "95                                                           0           \n",
      "96                                                           0           \n",
      "99                                                           0           \n",
      "100                                                          0           \n",
      "\n",
      "violation    Windows obstructed - window tinting  Windshield Obscured  \\\n",
      "subject_age                                                             \n",
      "11                                             0                    0   \n",
      "12                                             0                    0   \n",
      "13                                             0                    0   \n",
      "14                                             0                    0   \n",
      "15                                             0                    2   \n",
      "...                                          ...                  ...   \n",
      "94                                             0                    0   \n",
      "95                                             0                    0   \n",
      "96                                             0                    0   \n",
      "99                                             0                    0   \n",
      "100                                            0                    0   \n",
      "\n",
      "violation    Windshield Obstructed (Muni 227)  \n",
      "subject_age                                    \n",
      "11                                          0  \n",
      "12                                          0  \n",
      "13                                          0  \n",
      "14                                          0  \n",
      "15                                          0  \n",
      "...                                       ...  \n",
      "94                                          0  \n",
      "95                                          0  \n",
      "96                                          0  \n",
      "99                                          0  \n",
      "100                                         0  \n",
      "\n",
      "[88 rows x 413 columns]\n"
     ]
    }
   ],
   "source": [
    "# Create a frequency table of districts and violations\n",
    "age_violation = pd.crosstab(ri.subject_age,ri.violation)\n",
    "print(age_violation)\n"
   ]
  },
  {
   "cell_type": "code",
   "execution_count": 162,
   "metadata": {},
   "outputs": [
    {
     "name": "stdout",
     "output_type": "stream",
     "text": [
      "violation    Alter Deface Offic Traf Cont Sign Device  \\\n",
      "subject_age                                             \n",
      "19                                                  0   \n",
      "20                                                  0   \n",
      "21                                                  0   \n",
      "22                                                  0   \n",
      "23                                                  0   \n",
      "24                                                  0   \n",
      "25                                                  0   \n",
      "26                                                  0   \n",
      "27                                                  0   \n",
      "28                                                  0   \n",
      "29                                                  0   \n",
      "30                                                  0   \n",
      "\n",
      "violation    Alteration of Suspension System.  \\\n",
      "subject_age                                     \n",
      "19                                          0   \n",
      "20                                          0   \n",
      "21                                          1   \n",
      "22                                          0   \n",
      "23                                          0   \n",
      "24                                          2   \n",
      "25                                          1   \n",
      "26                                          0   \n",
      "27                                          0   \n",
      "28                                          0   \n",
      "29                                          0   \n",
      "30                                          1   \n",
      "\n",
      "violation    Bicycle Riders Obedience To Traffic Control Devices (stop si  \\\n",
      "subject_age                                                                 \n",
      "19                                                           0              \n",
      "20                                                           0              \n",
      "21                                                           0              \n",
      "22                                                           0              \n",
      "23                                                           0              \n",
      "24                                                           0              \n",
      "25                                                           0              \n",
      "26                                                           0              \n",
      "27                                                           0              \n",
      "28                                                           0              \n",
      "29                                                           0              \n",
      "30                                                           0              \n",
      "\n",
      "violation    Bicyclist Suddenly Rode Into Path Of Vehicle  \\\n",
      "subject_age                                                 \n",
      "19                                                      0   \n",
      "20                                                      0   \n",
      "21                                                      0   \n",
      "22                                                      0   \n",
      "23                                                      0   \n",
      "24                                                      0   \n",
      "25                                                      0   \n",
      "26                                                      0   \n",
      "27                                                      0   \n",
      "28                                                      0   \n",
      "29                                                      0   \n",
      "30                                                      0   \n",
      "\n",
      "violation    Blue and red lights - illegal use or possess  Careless Driving  \\\n",
      "subject_age                                                                   \n",
      "19                                                      1                63   \n",
      "20                                                      1                65   \n",
      "21                                                      0                60   \n",
      "22                                                      2                73   \n",
      "23                                                      0                54   \n",
      "24                                                      1                54   \n",
      "25                                                      1                50   \n",
      "26                                                      0                31   \n",
      "27                                                      3                40   \n",
      "28                                                      1                38   \n",
      "29                                                      0                32   \n",
      "30                                                      0                24   \n",
      "\n",
      "violation    Careless Driving - Failed To Yield R.O.W. To A Stationary Em  \\\n",
      "subject_age                                                                 \n",
      "19                                                           0              \n",
      "20                                                           0              \n",
      "21                                                           0              \n",
      "22                                                           0              \n",
      "23                                                           0              \n",
      "24                                                           0              \n",
      "25                                                           0              \n",
      "26                                                           0              \n",
      "27                                                           0              \n",
      "28                                                           0              \n",
      "29                                                           0              \n",
      "30                                                           0              \n",
      "\n",
      "violation    Changed Lanes When Unsafe  Changed Lanes When Unsafe (Weaving)  \\\n",
      "subject_age                                                                   \n",
      "19                                  22                                    3   \n",
      "20                                  25                                    3   \n",
      "21                                  25                                    5   \n",
      "22                                  28                                   10   \n",
      "23                                  15                                    3   \n",
      "24                                  24                                    1   \n",
      "25                                  34                                    6   \n",
      "26                                  16                                    2   \n",
      "27                                  25                                    3   \n",
      "28                                   9                                    2   \n",
      "29                                  16                                    2   \n",
      "30                                   9                                    4   \n",
      "\n",
      "violation    Child Booster Seat Required (4-7 years of age) primary viola  \\\n",
      "subject_age                                                                 \n",
      "19                                                           1              \n",
      "20                                                           1              \n",
      "21                                                           2              \n",
      "22                                                           1              \n",
      "23                                                           4              \n",
      "24                                                           6              \n",
      "25                                                           9              \n",
      "26                                                           7              \n",
      "27                                                           7              \n",
      "28                                                           7              \n",
      "29                                                           5              \n",
      "30                                                           5              \n",
      "\n",
      "violation    ...  Violation of Motorcycle Safety Law-Goggles  \\\n",
      "subject_age  ...                                               \n",
      "19           ...                                           0   \n",
      "20           ...                                           0   \n",
      "21           ...                                           0   \n",
      "22           ...                                           0   \n",
      "23           ...                                           3   \n",
      "24           ...                                           0   \n",
      "25           ...                                           0   \n",
      "26           ...                                           0   \n",
      "27           ...                                           0   \n",
      "28           ...                                           0   \n",
      "29           ...                                           0   \n",
      "30           ...                                           0   \n",
      "\n",
      "violation    Violation of Red Signal Light  \\\n",
      "subject_age                                  \n",
      "19                                       0   \n",
      "20                                       0   \n",
      "21                                       0   \n",
      "22                                       0   \n",
      "23                                       0   \n",
      "24                                       0   \n",
      "25                                       0   \n",
      "26                                       0   \n",
      "27                                       0   \n",
      "28                                       0   \n",
      "29                                       0   \n",
      "30                                       1   \n",
      "\n",
      "violation    Violation of Red Signal Light  (muni 604(1)(c)(I)  \\\n",
      "subject_age                                                      \n",
      "19                                                           0   \n",
      "20                                                           1   \n",
      "21                                                           0   \n",
      "22                                                           0   \n",
      "23                                                           1   \n",
      "24                                                           2   \n",
      "25                                                           1   \n",
      "26                                                           3   \n",
      "27                                                           2   \n",
      "28                                                           1   \n",
      "29                                                           1   \n",
      "30                                                           0   \n",
      "\n",
      "violation    Visible Emmissions from Gas Engine  \\\n",
      "subject_age                                       \n",
      "19                                            1   \n",
      "20                                            1   \n",
      "21                                            4   \n",
      "22                                            3   \n",
      "23                                            2   \n",
      "24                                            0   \n",
      "25                                            3   \n",
      "26                                            1   \n",
      "27                                            3   \n",
      "28                                            0   \n",
      "29                                            1   \n",
      "30                                            3   \n",
      "\n",
      "violation    Vision Obstructed - Muni Statute 227(1)  Weight Over 7000 Lbs  \\\n",
      "subject_age                                                                  \n",
      "19                                                 0                     0   \n",
      "20                                                 1                     0   \n",
      "21                                                 0                     0   \n",
      "22                                                 0                     0   \n",
      "23                                                 0                     0   \n",
      "24                                                 0                     0   \n",
      "25                                                 0                     1   \n",
      "26                                                 0                     0   \n",
      "27                                                 0                     0   \n",
      "28                                                 0                     0   \n",
      "29                                                 0                     0   \n",
      "30                                                 0                     0   \n",
      "\n",
      "violation    Wheel and or Axle Loads Exceeded Limit - Muni Statute 507  \\\n",
      "subject_age                                                              \n",
      "19                                                           1           \n",
      "20                                                           2           \n",
      "21                                                           2           \n",
      "22                                                           8           \n",
      "23                                                          11           \n",
      "24                                                          18           \n",
      "25                                                          12           \n",
      "26                                                          10           \n",
      "27                                                          14           \n",
      "28                                                          17           \n",
      "29                                                          10           \n",
      "30                                                          15           \n",
      "\n",
      "violation    Windows obstructed - window tinting  Windshield Obscured  \\\n",
      "subject_age                                                             \n",
      "19                                             0                    3   \n",
      "20                                             1                    3   \n",
      "21                                             1                    4   \n",
      "22                                             1                    4   \n",
      "23                                             1                    4   \n",
      "24                                             0                    2   \n",
      "25                                             0                    2   \n",
      "26                                             1                    2   \n",
      "27                                             0                    1   \n",
      "28                                             0                    6   \n",
      "29                                             0                    1   \n",
      "30                                             0                    1   \n",
      "\n",
      "violation    Windshield Obstructed (Muni 227)  \n",
      "subject_age                                    \n",
      "19                                          0  \n",
      "20                                          0  \n",
      "21                                          0  \n",
      "22                                          0  \n",
      "23                                          0  \n",
      "24                                          0  \n",
      "25                                          0  \n",
      "26                                          0  \n",
      "27                                          0  \n",
      "28                                          0  \n",
      "29                                          0  \n",
      "30                                          0  \n",
      "\n",
      "[12 rows x 413 columns]\n"
     ]
    }
   ],
   "source": [
    "# Select rows age 19 to 30\n",
    "young_violation = age_violation.loc['19':'30']\n",
    "print(young_violation)"
   ]
  },
  {
   "cell_type": "code",
   "execution_count": 197,
   "metadata": {},
   "outputs": [
    {
     "data": {
      "image/png": "[encoded data removed]",
      "text/plain": [
       "<Figure size 432x288 with 1 Axes>"
      ]
     },
     "metadata": {
      "needs_background": "light"
     },
     "output_type": "display_data"
    }
   ],
   "source": [
    "# Create a bar plot of younger violation\n",
    "young_violation.plot(kind='bar',legend=False)\n",
    "plt.show()\n"
   ]
  },
  {
   "cell_type": "code",
   "execution_count": null,
   "metadata": {},
   "outputs": [],
   "source": []
  }
 ],
 "metadata": {
  "kernelspec": {
   "display_name": "Python 3",
   "language": "python",
   "name": "python3"
  },
  "language_info": {
   "codemirror_mode": {
    "name": "ipython",
    "version": 3
   },
   "file_extension": ".py",
   "mimetype": "text/x-python",
   "name": "python",
   "nbconvert_exporter": "python",
   "pygments_lexer": "ipython3",
   "version": "3.7.6"
  }
 },
 "nbformat": 4,
 "nbformat_minor": 4
}
